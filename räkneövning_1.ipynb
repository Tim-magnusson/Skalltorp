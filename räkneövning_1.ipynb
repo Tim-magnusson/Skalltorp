{
  "nbformat": 4,
  "nbformat_minor": 0,
  "metadata": {
    "colab": {
      "name": "räkneövning 1.ipynb",
      "provenance": [],
      "include_colab_link": true
    },
    "kernelspec": {
      "name": "python3",
      "display_name": "Python 3"
    }
  },
  "cells": [
    {
      "cell_type": "markdown",
      "metadata": {
        "id": "view-in-github",
        "colab_type": "text"
      },
      "source": [
        "<a href=\"https://colab.research.google.com/github/Tim-magnusson/Skalltorp/blob/master/r%C3%A4kne%C3%B6vning_1.ipynb\" target=\"_parent\"><img src=\"https://colab.research.google.com/assets/colab-badge.svg\" alt=\"Open In Colab\"/></a>"
      ]
    },
    {
      "cell_type": "markdown",
      "metadata": {
        "id": "aoy8QtdBVo4A",
        "colab_type": "text"
      },
      "source": [
        "Med Phyton kan man räkna ut alla de saker som en vanlig miniräknare kan göra. \n",
        "addition gör med hjälp av + . Subtraktion görs med - . Multiplikation gör med * (Shift + ' ) och division görs med / (Shift + 7)"
      ]
    },
    {
      "cell_type": "markdown",
      "metadata": {
        "id": "bCU5ZUtMdG9Z",
        "colab_type": "text"
      },
      "source": [
        "Testa de olika räknesätten genom att skriva i kod fönstret, det är det fönstret som börjar med en pil. när du har skrivt klart, trycker du antingen på pilen eller | ctrl + Enter |"
      ]
    },
    {
      "cell_type": "code",
      "metadata": {
        "colab_type": "code",
        "id": "Tp_-thcAdsB6",
        "colab": {}
      },
      "source": [
        ""
      ],
      "execution_count": 0,
      "outputs": []
    },
    {
      "cell_type": "markdown",
      "metadata": {
        "id": "7ZBmkAQecYYW",
        "colab_type": "text"
      },
      "source": [
        "När du förstår hur det fungerar försök att beräkna uppgift 21, 32, 41, 54, 58, 67, 99, 112, 118 i Mondo med hjälp av Phyton i ett nytt kod fönster. Det gör du genom att trycka på | + Code | uppe i vänstra hörnet. Där efter vill jag att du testar att ränka 4 + 3 * 6 , 6*4+3, 6*(4+3) och (4+3)*6. Kan du lista ut varför det blir som det blir. Skriv ner ditt svar i ett text fönster som du skapar genom att trycka | + text | uppe i vänstra hörnet."
      ]
    },
    {
      "cell_type": "code",
      "metadata": {
        "id": "a-pvC-xN377K",
        "colab_type": "code",
        "colab": {}
      },
      "source": [
        ""
      ],
      "execution_count": 0,
      "outputs": []
    }
  ]
}